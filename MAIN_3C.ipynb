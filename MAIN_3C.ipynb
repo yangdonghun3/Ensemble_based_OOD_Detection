{
 "cells": [
  {
   "cell_type": "code",
   "execution_count": null,
   "metadata": {},
   "outputs": [],
   "source": [
    "from utils.OOD_Baseline_and_ODIN import Baseline_and_ODIN\n",
    "from utils.OOD_Mahalanobis import Mahalanobis_Generate, Mahalanobis_Regression\n",
    "from utils.OOD_Mahalanobis_5 import Mahalanobis_Generate_5, Mahalanobis_Regression_5\n",
    "from torchvision.datasets import SVHN, CIFAR10, CIFAR100\n",
    "from utils.datasets import getNonTargetDataSet\n",
    "from torchvision import transforms\n",
    "from torchvision import transforms\n",
    "import torch\n",
    "import warnings\n",
    "\n",
    "warnings.filterwarnings(action='ignore')\n",
    "torch.cuda.set_device(1)"
   ]
  },
  {
   "cell_type": "code",
   "execution_count": null,
   "metadata": {
    "scrolled": true
   },
   "outputs": [],
   "source": [
    "mean, std = [0.4914, 0.4822, 0.4465], [0.2023, 0.1994, 0.2010]\n",
    "CIFAR10_train_dataset = CIFAR10('./data/CIFAR10',  train =True, download=True,\n",
    "                             transform=transforms.Compose([\n",
    "                                 transforms.ToTensor(),\n",
    "                                 transforms.Normalize(mean=mean, std=std)\n",
    "                             ]))\n",
    "CIFAR10_test_dataset = CIFAR10('./data/CIFAR10',  train =False, download=True,\n",
    "                             transform=transforms.Compose([\n",
    "                                 transforms.ToTensor(),\n",
    "                                 transforms.Normalize(mean=mean, std=std)\n",
    "                             ]))\n",
    "SVHN_test_dataset = SVHN('./data/SVHN',  split='test', download=True,\n",
    "                             transform=transforms.Compose([\n",
    "                                 transforms.ToTensor(),\n",
    "                                 transforms.Normalize(mean=mean, std=std)\n",
    "                             ]))\n",
    "in_transform = transforms.Compose([transforms.ToTensor(), transforms.Normalize(mean, std),])\n",
    "imagenet_resize_test_dataset=getNonTargetDataSet('imagenet_resize',200,in_transform,\"./data\")\n",
    "lsun_resize_test_dataset=getNonTargetDataSet('lsun_resize',200,in_transform,\"./data\")"
   ]
  },
  {
   "cell_type": "code",
   "execution_count": null,
   "metadata": {},
   "outputs": [],
   "source": [
    "'''\n",
    "    Baseline & Odin\n",
    "        - model : resnet\n",
    "        - in_data : cifar10\n",
    "        - out_data : svhn, tinyimagenet, lsun\n",
    "'''\n",
    "for out in [SVHN_test_dataset, imagenet_resize_test_dataset, lsun_resize_test_dataset]:\n",
    "    Baseline_and_ODIN('resnet_cifar10',CIFAR10_test_dataset,out)\n"
   ]
  },
  {
   "cell_type": "code",
   "execution_count": null,
   "metadata": {},
   "outputs": [],
   "source": [
    "'''\n",
    "    Mahalanobis & only_siam & only_triplet\n",
    "        - model : resnet\n",
    "        - in_data : cifar10\n",
    "        - out_data : svhn, tinyimagenet, lsun\n",
    "'''\n",
    "\n",
    "for model in ['norm_resnet34_cifar10',\\\n",
    "              'test10_siam_resnet_cifar10',\\\n",
    "              'test10_triplet_resnet_cifar10'\n",
    "             ]:\n",
    "    for out in [SVHN_test_dataset, imagenet_resize_test_dataset, lsun_resize_test_dataset]:\n",
    "        Mahalanobis_Generate_5(model,\\\n",
    "                            CIFAR10_train_dataset,\\\n",
    "                            CIFAR10_test_dataset,\\\n",
    "                            out)\n",
    "        Mahalanobis_Regression_5(model,\\\n",
    "                              CIFAR10_test_dataset,\\\n",
    "                              out)\n",
    "        "
   ]
  },
  {
   "cell_type": "code",
   "execution_count": null,
   "metadata": {},
   "outputs": [],
   "source": [
    "'''\n",
    "    ensemble_siam & ensemble_triplet\n",
    "        - model : resnet\n",
    "        - in_data : cifar10\n",
    "        - out_data : svhn, tinyimagenet, lsun\n",
    "'''\n",
    "base_model = 'norm_resnet34_cifar10'\n",
    "for model in ['test10_siam_resnet_cifar10',\\\n",
    "              'test10_triplet_resnet_cifar10'\n",
    "             ]:\n",
    "    for out in [SVHN_test_dataset, imagenet_resize_test_dataset, lsun_resize_test_dataset]:\n",
    "        Mahalanobis_Generate(model, base_model,\\\n",
    "                        CIFAR10_train_dataset,\\\n",
    "                        CIFAR10_test_dataset,\\\n",
    "                        out)\n",
    "        Mahalanobis_Regression(model,\\\n",
    "                          CIFAR10_test_dataset,\\\n",
    "                          out)"
   ]
  },
  {
   "cell_type": "code",
   "execution_count": null,
   "metadata": {},
   "outputs": [],
   "source": [
    "mean, std = [0.4914, 0.4822, 0.4465], [0.2023, 0.1994, 0.2010]\n",
    "CIFAR100_train_dataset = CIFAR100('./data/CIFAR100',  train =True, download=True,\n",
    "                             transform=transforms.Compose([\n",
    "                                 transforms.ToTensor(),\n",
    "                                 transforms.Normalize(mean=mean, std=std)\n",
    "                             ]))\n",
    "CIFAR100_test_dataset = CIFAR100('./data/CIFAR100',  train =False, download=True,\n",
    "                             transform=transforms.Compose([\n",
    "                                 transforms.ToTensor(),\n",
    "                                 transforms.Normalize(mean=mean, std=std)\n",
    "                             ]))\n",
    "SVHN_test_dataset = SVHN('./data/SVHN',  split='test', download=True,\n",
    "                             transform=transforms.Compose([\n",
    "                                 transforms.ToTensor(),\n",
    "                                 transforms.Normalize(mean=mean, std=std)\n",
    "                             ]))\n",
    "in_transform = transforms.Compose([transforms.ToTensor(), transforms.Normalize(mean, std),])\n",
    "imagenet_resize_test_dataset=getNonTargetDataSet('imagenet_resize',256,in_transform,\"./data\")\n",
    "lsun_resize_test_dataset=getNonTargetDataSet('lsun_resize',256,in_transform,\"./data\")"
   ]
  },
  {
   "cell_type": "code",
   "execution_count": null,
   "metadata": {},
   "outputs": [],
   "source": [
    "'''\n",
    "    Baseline & Odin\n",
    "        - model : resnet\n",
    "        - in_data : cifar100\n",
    "        - out_data : svhn, tinyimagenet, lsun\n",
    "'''\n",
    "for out in [SVHN_test_dataset, imagenet_resize_test_dataset, lsun_resize_test_dataset]:\n",
    "    Baseline_and_ODIN('resnet_cifar100',CIFAR100_test_dataset,out)\n"
   ]
  },
  {
   "cell_type": "code",
   "execution_count": null,
   "metadata": {},
   "outputs": [],
   "source": [
    "'''\n",
    "    Mahalanobis & only_siam & only_triplet\n",
    "        - model : resnet\n",
    "        - in_data : cifar100\n",
    "        - out_data : svhn, tinyimagenet, lsun\n",
    "'''\n",
    "\n",
    "for model in ['norm_resnet34_cifar100',\\\n",
    "              'test10_siam_resnet_cifar100',\\\n",
    "              'test10_triplet_resnet_cifar100'\n",
    "             ]:\n",
    "    for out in [SVHN_test_dataset, imagenet_resize_test_dataset, lsun_resize_test_dataset]:\n",
    "        Mahalanobis_Generate_5(model,\\\n",
    "                            CIFAR100_train_dataset,\\\n",
    "                            CIFAR100_test_dataset,\\\n",
    "                            out)\n",
    "        Mahalanobis_Regression_5(model,\\\n",
    "                              CIFAR100_test_dataset,\\\n",
    "                              out)\n",
    "        "
   ]
  },
  {
   "cell_type": "code",
   "execution_count": null,
   "metadata": {},
   "outputs": [],
   "source": [
    "'''\n",
    "    ensemble_siam & ensemble_triplet\n",
    "        - model : resnet\n",
    "        - in_data : cifar100\n",
    "        - out_data : svhn, tinyimagenet, lsun\n",
    "'''\n",
    "base_model = 'norm_resnet34_cifar100'\n",
    "for model in ['test10_siam_resnet_cifar100',\\\n",
    "              'test10_triplet_resnet_cifar100'\n",
    "             ]:\n",
    "    for out in [SVHN_test_dataset, imagenet_resize_test_dataset, lsun_resize_test_dataset]:\n",
    "        Mahalanobis_Generate(model, base_model,\\\n",
    "                        CIFAR100_train_dataset,\\\n",
    "                        CIFAR100_test_dataset,\\\n",
    "                        out)\n",
    "        Mahalanobis_Regression(model,\\\n",
    "                          CIFAR100_test_dataset,\\\n",
    "                          out)"
   ]
  },
  {
   "cell_type": "code",
   "execution_count": null,
   "metadata": {},
   "outputs": [],
   "source": [
    "mean, std = [0.4380, 0.4440, 0.4730], [0.1751, 0.1771, 0.1744]\n",
    "SVHN_train_dataset = SVHN('./data/SVHN',  split='train', download=True,\n",
    "                             transform=transforms.Compose([\n",
    "                                 transforms.ToTensor(),\n",
    "                                 transforms.Normalize(mean=mean, std=std)\n",
    "                             ]))\n",
    "SVHN_test_dataset = SVHN('./data/SVHN',  split='test', download=True,\n",
    "                             transform=transforms.Compose([\n",
    "                                 transforms.ToTensor(),\n",
    "                                 transforms.Normalize(mean=mean, std=std)\n",
    "                             ]))\n",
    "CIFAR10_test_dataset = CIFAR10('./data/CIFAR10',  train =False, download=True,\n",
    "                             transform=transforms.Compose([\n",
    "                                 transforms.ToTensor(),\n",
    "                                 transforms.Normalize(mean=mean, std=std)\n",
    "                             ]))\n",
    "\n",
    "in_transform = transforms.Compose([transforms.ToTensor(), transforms.Normalize(mean, std),])\n",
    "imagenet_resize_test_dataset=getNonTargetDataSet('imagenet_resize',256,in_transform,\"./data\")\n",
    "lsun_resize_test_dataset=getNonTargetDataSet('lsun_resize',256,in_transform,\"./data\")"
   ]
  },
  {
   "cell_type": "code",
   "execution_count": null,
   "metadata": {},
   "outputs": [],
   "source": [
    "'''\n",
    "    Baseline & Odin\n",
    "        - model : resnet\n",
    "        - in_data : svhn\n",
    "        - out_data : cifar10, tinyimagenet, lsun\n",
    "'''\n",
    "for out in [CIFAR10_test_dataset, imagenet_resize_test_dataset, lsun_resize_test_dataset]:\n",
    "    Baseline_and_ODIN('resnet_svhn',SVHN_test_dataset,out)\n"
   ]
  },
  {
   "cell_type": "code",
   "execution_count": null,
   "metadata": {},
   "outputs": [],
   "source": [
    "'''\n",
    "    Mahalanobis & only_siam & only_triplet\n",
    "        - model : resnet\n",
    "        - in_data : svhn\n",
    "        - out_data : cifar10, tinyimagenet, lsun\n",
    "'''\n",
    "\n",
    "for model in ['norm_resnet34_svhn',\\\n",
    "              'test10_siam_resnet_svhn',\\\n",
    "              'test10_triplet_resnet_svhn'\n",
    "             ]:\n",
    "    for out in [CIFAR10_test_dataset, imagenet_resize_test_dataset, lsun_resize_test_dataset]:\n",
    "        Mahalanobis_Generate_5(model,\\\n",
    "                            SVHN_train_dataset,\\\n",
    "                            SVHN_test_dataset,\\\n",
    "                            out)\n",
    "        Mahalanobis_Regression_5(model,\\\n",
    "                              SVHN_test_dataset,\\\n",
    "                              out)        "
   ]
  },
  {
   "cell_type": "code",
   "execution_count": null,
   "metadata": {},
   "outputs": [],
   "source": [
    "'''\n",
    "    ensemble_siam & ensemble_triplet\n",
    "        - model : resnet\n",
    "        - in_data : svhn\n",
    "        - out_data : cifar10, tinyimagenet, lsun\n",
    "'''\n",
    "base_model = 'norm_resnet34_svhn'\n",
    "for model in ['test10_siam_resnet_svhn',\\\n",
    "              'test10_triplet_resnet_svhn'\n",
    "             ]:\n",
    "    for out in [CIFAR10_test_dataset, imagenet_resize_test_dataset, lsun_resize_test_dataset]:\n",
    "        Mahalanobis_Generate(model, base_model,\\\n",
    "                            SVHN_train_dataset,\\\n",
    "                            SVHN_test_dataset,\\\n",
    "                            out)\n",
    "        Mahalanobis_Regression(model,\\\n",
    "                               SVHN_test_dataset,\\\n",
    "                               out)   "
   ]
  }
 ],
 "metadata": {
  "kernelspec": {
   "display_name": "ood_ex",
   "language": "python",
   "name": "ood_ex"
  },
  "language_info": {
   "codemirror_mode": {
    "name": "ipython",
    "version": 3
   },
   "file_extension": ".py",
   "mimetype": "text/x-python",
   "name": "python",
   "nbconvert_exporter": "python",
   "pygments_lexer": "ipython3",
   "version": "3.7.9"
  }
 },
 "nbformat": 4,
 "nbformat_minor": 4
}
