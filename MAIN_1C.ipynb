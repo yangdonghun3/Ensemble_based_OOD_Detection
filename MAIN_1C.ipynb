{
 "cells": [
  {
   "cell_type": "code",
   "execution_count": null,
   "metadata": {},
   "outputs": [],
   "source": [
    "from utils.OOD_Baseline_and_ODIN import Baseline_and_ODIN\n",
    "from utils.OOD_Mahalanobis import Mahalanobis_Generate, Mahalanobis_Regression\n",
    "from utils.OOD_Mahalanobis_5 import Mahalanobis_Generate_5, Mahalanobis_Regression_5\n",
    "from torchvision.datasets import FashionMNIST, MNIST\n",
    "from utils.datasets import getNonTargetDataSet\n",
    "from torchvision import transforms\n",
    "from torchvision import transforms\n",
    "import torch\n",
    "import warnings\n",
    "\n",
    "warnings.filterwarnings(action='ignore')\n",
    "torch.cuda.set_device(0)"
   ]
  },
  {
   "cell_type": "code",
   "execution_count": null,
   "metadata": {
    "scrolled": true
   },
   "outputs": [],
   "source": [
    "mean, std = 0.28604059698879553, 0.35302424451492237\n",
    "FashionMNIST_train_dataset = FashionMNIST('./data/FashionMNIST', train=True, download=True,\n",
    "                             transform=transforms.Compose([\n",
    "                                 transforms.ToTensor(),\n",
    "                                 transforms.Normalize((mean,), (std,))\n",
    "                             ]))\n",
    "FashionMNIST_test_dataset = FashionMNIST('./data/FashionMNIST', train=False, download=True,\n",
    "                            transform=transforms.Compose([\n",
    "                                transforms.ToTensor(),\n",
    "                                transforms.Normalize((mean,), (std,))\n",
    "                            ]))\n",
    "MNIST_test_dataset = MNIST('./data/MNIST', train=False, download=True,\n",
    "                            transform=transforms.Compose([\n",
    "                                transforms.ToTensor(),\n",
    "                                transforms.Normalize((mean,), (std,))\n",
    "                            ]))"
   ]
  },
  {
   "cell_type": "code",
   "execution_count": null,
   "metadata": {},
   "outputs": [],
   "source": [
    "'''\n",
    "    Baseline & Odin\n",
    "        - model : resnet\n",
    "        - in_data : fashionmnist\n",
    "        - out_data : mnist\n",
    "'''\n",
    "Baseline_and_ODIN('test10_baseline_resnet_fashionmnist',FashionMNIST_test_dataset,MNIST_test_dataset)"
   ]
  },
  {
   "cell_type": "code",
   "execution_count": null,
   "metadata": {},
   "outputs": [],
   "source": [
    "'''\n",
    "    Mahalanobis & only_siam & only_triplet\n",
    "        - model : resnet\n",
    "        - in_data : fashionmnist\n",
    "        - out_data : mnist\n",
    "'''\n",
    "for model in ['test10_baseline_resnet_fashionmnist',\\\n",
    "             'test10_siam_resnet_fashionmnist',\\\n",
    "             'test10_triplet_resnet_fashionmnist'\n",
    "             ]:        \n",
    "    Mahalanobis_Generate_5(model,\\\n",
    "                            FashionMNIST_train_dataset,\\\n",
    "                            FashionMNIST_test_dataset,\\\n",
    "                            MNIST_test_dataset)    \n",
    "    Mahalanobis_Regression_5(model,\\\n",
    "                              FashionMNIST_test_dataset,\\\n",
    "                              MNIST_test_dataset)"
   ]
  },
  {
   "cell_type": "code",
   "execution_count": null,
   "metadata": {},
   "outputs": [],
   "source": [
    "'''\n",
    "    ensemble_siam & ensemble_triplet\n",
    "        - model : resnet\n",
    "        - in_data : fashionmnist\n",
    "        - out_data : mnist\n",
    "'''\n",
    "base_model = 'test10_baseline_resnet_fashionmnist'\n",
    "for model in ['test10_siam_resnet_fashionmnist',\\\n",
    "             'test10_triplet_resnet_fashionmnist'\n",
    "             ]:         \n",
    "    Mahalanobis_Generate(base_model, model,\\\n",
    "                            FashionMNIST_train_dataset,\\\n",
    "                            FashionMNIST_test_dataset,\\\n",
    "                            MNIST_test_dataset)\n",
    "    Mahalanobis_Regression(model,\\\n",
    "                              FashionMNIST_test_dataset,\\\n",
    "                              MNIST_test_dataset)"
   ]
  },
  {
   "cell_type": "code",
   "execution_count": null,
   "metadata": {},
   "outputs": [],
   "source": [
    "mean, std = 0.1307, 0.3081\n",
    "MNIST_train_dataset = MNIST('./data/MNIST', train=True, download=True,\n",
    "                             transform=transforms.Compose([\n",
    "                                 transforms.ToTensor(),\n",
    "                                 transforms.Normalize((mean,), (std,))\n",
    "                             ]))\n",
    "MNIST_test_dataset = MNIST('./data/MNIST', train=False, download=True,\n",
    "                            transform=transforms.Compose([\n",
    "                                transforms.ToTensor(),\n",
    "                                transforms.Normalize((mean,), (std,))\n",
    "                            ]))\n",
    "FashionMNIST_test_dataset = FashionMNIST('./data/FashionMNIST', train=False, download=True,\n",
    "                            transform=transforms.Compose([\n",
    "                                transforms.ToTensor(),\n",
    "                                transforms.Normalize((mean,), (std,))\n",
    "                            ]))"
   ]
  },
  {
   "cell_type": "code",
   "execution_count": null,
   "metadata": {},
   "outputs": [],
   "source": [
    "'''\n",
    "    Baseline & Odin\n",
    "        - model : resnet\n",
    "        - in_data : mnist\n",
    "        - out_data : fashionmnist\n",
    "'''\n",
    "Baseline_and_ODIN('test10_baseline_resnet_mnist',MNIST_test_dataset,FashionMNIST_test_dataset)"
   ]
  },
  {
   "cell_type": "code",
   "execution_count": null,
   "metadata": {},
   "outputs": [],
   "source": [
    "'''\n",
    "    Mahalanobis & only_siam & only_triplet\n",
    "        - model : resnet\n",
    "        - in_data : mnist\n",
    "        - out_data : fashionmnist\n",
    "'''\n",
    "for model in ['test10_baseline_resnet_mnist',\\\n",
    "             'test10_siam_resnet_mnist',\\\n",
    "             'test10_triplet_resnet_mnist'\n",
    "             ]:         \n",
    "    Mahalanobis_Generate_5(model,\\\n",
    "                            MNIST_train_dataset,\\\n",
    "                            MNIST_test_dataset,\\\n",
    "                            FashionMNIST_test_dataset)\n",
    "    Mahalanobis_Regression_5(model,\\\n",
    "                              MNIST_test_dataset,\\\n",
    "                              FashionMNIST_test_dataset)"
   ]
  },
  {
   "cell_type": "code",
   "execution_count": null,
   "metadata": {},
   "outputs": [],
   "source": [
    "'''\n",
    "    ensemble_siam & ensemble_triplet\n",
    "        - model : resnet\n",
    "        - in_data : mnist\n",
    "        - out_data : fashionmnist\n",
    "'''\n",
    "base_model = 'test10_baseline_resnet_mnist'\n",
    "for model in ['test10_siam_resnet_mnist',\\\n",
    "             'test10_triplet_resnet_mnist'\n",
    "             ]:         \n",
    "    Mahalanobis_Generate(base_model, model,\\\n",
    "                            MNIST_train_dataset,\\\n",
    "                            MNIST_test_dataset,\\\n",
    "                            FashionMNIST_test_dataset)\n",
    "    Mahalanobis_Regression(model,\\\n",
    "                              MNIST_test_dataset,\\\n",
    "                              FashionMNIST_test_dataset)"
   ]
  }
 ],
 "metadata": {
  "kernelspec": {
   "display_name": "ood_ex",
   "language": "python",
   "name": "ood_ex"
  },
  "language_info": {
   "codemirror_mode": {
    "name": "ipython",
    "version": 3
   },
   "file_extension": ".py",
   "mimetype": "text/x-python",
   "name": "python",
   "nbconvert_exporter": "python",
   "pygments_lexer": "ipython3",
   "version": "3.7.9"
  }
 },
 "nbformat": 4,
 "nbformat_minor": 4
}
